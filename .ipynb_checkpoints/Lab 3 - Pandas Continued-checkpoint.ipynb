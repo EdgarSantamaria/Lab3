{
 "cells": [
  {
   "cell_type": "code",
   "execution_count": 1,
   "id": "initial_id",
   "metadata": {
    "ExecuteTime": {
     "end_time": "2024-03-12T23:03:00.631729Z",
     "start_time": "2024-03-12T23:03:00.269868Z"
    }
   },
   "outputs": [],
   "source": [
    "import pandas as pd\n",
    "import numpy as np"
   ]
  },
  {
   "cell_type": "markdown",
   "id": "9d6b33e89bc38850",
   "metadata": {},
   "source": [
    "1. Write a Pandas program to join the two given dataframes along rows and assign all data.\n",
    "Test Data:\n",
    "student_data1:\n",
    "  student_id              name  marks\n",
    "0         S1  Danniella Fenton    200\n",
    "1         S2      Ryder Storey    210\n",
    "2         S3      Bryce Jensen    190\n",
    "3         S4         Ed Bernal    222\n",
    "4         S5       Kwame Morin    199\n",
    "student_data2:\n",
    "  student_id              name  marks\n",
    "0         S4  Scarlette Fisher    201\n",
    "1         S5  Carla Williamson    200\n",
    "2         S6       Dante Morse    198\n",
    "3         S7    Kaiser William    219\n",
    "4         S8   Madeeha Preston    201"
   ]
  },
  {
   "cell_type": "code",
   "execution_count": 2,
   "id": "f2aecf2dce21a3e3",
   "metadata": {
    "ExecuteTime": {
     "end_time": "2024-03-12T23:04:55.047050Z",
     "start_time": "2024-03-12T23:04:55.025865Z"
    }
   },
   "outputs": [
    {
     "name": "stdout",
     "output_type": "stream",
     "text": [
      "  student_id            name_x  marks_x             name_y  marks_y\n",
      "0         S1  Danniella Fenton    200.0                NaN      NaN\n",
      "1         S2      Ryder Storey    210.0                NaN      NaN\n",
      "2         S3      Bryce Jensen    190.0                NaN      NaN\n",
      "3         S4         Ed Bernal    222.0   Scarlette Fisher    201.0\n",
      "4         S5       Kwame Morin    199.0  Carla Williamson     200.0\n",
      "5         S6               NaN      NaN        Dante Morse    198.0\n",
      "6         S7               NaN      NaN     Kaiser William    219.0\n",
      "7         S8               NaN      NaN    Madeeha Preston    201.0\n"
     ]
    }
   ],
   "source": [
    "student_data1 = pd.DataFrame({'student_id':['S1', 'S2', 'S3', 'S4', 'S5'], 'name': ['Danniella Fenton', 'Ryder Storey', 'Bryce Jensen', 'Ed Bernal', 'Kwame Morin'], 'marks': [200, 210, 190, 222, 199]})\n",
    "\n",
    "student_data2 = pd.DataFrame({'student_id':['S4', 'S5', 'S6', 'S7', 'S8'], 'name': ['Scarlette Fisher', 'Carla Williamson ', 'Dante Morse', 'Kaiser William', 'Madeeha Preston'], 'marks': [201, 200, 198, 219, 201]})\n",
    "\n",
    "merge = pd.merge(student_data1, student_data2, how='outer', on='student_id')\n",
    "print(merge)"
   ]
  },
  {
   "cell_type": "markdown",
   "id": "f182ef2389faf586",
   "metadata": {},
   "source": [
    "2. Write a Pandas program to join the two given dataframes along columns and assign all data.\n",
    "Test Data:\n",
    "student_data1:\n",
    "  student_id              name  marks\n",
    "0         S1  Danniella Fenton    200\n",
    "1         S2      Ryder Storey    210\n",
    "2         S3      Bryce Jensen    190\n",
    "3         S4         Ed Bernal    222\n",
    "4         S5       Kwame Morin    199\n",
    "student_data2:\n",
    "  student_id              name  marks\n",
    "0         S4  Scarlette Fisher    201\n",
    "1         S5  Carla Williamson    200\n",
    "2         S6       Dante Morse    198\n",
    "3         S7    Kaiser William    219\n",
    "4         S8   Madeeha Preston    201"
   ]
  },
  {
   "cell_type": "code",
   "execution_count": 3,
   "id": "4001d806fac8b699",
   "metadata": {
    "ExecuteTime": {
     "end_time": "2024-03-12T23:04:39.424999Z",
     "start_time": "2024-03-12T23:04:39.421032Z"
    }
   },
   "outputs": [
    {
     "name": "stdout",
     "output_type": "stream",
     "text": [
      "  student_id               name  marks\n",
      "0         S1   Danniella Fenton    200\n",
      "1         S2       Ryder Storey    210\n",
      "2         S3       Bryce Jensen    190\n",
      "3         S4          Ed Bernal    222\n",
      "4         S5        Kwame Morin    199\n",
      "0         S4   Scarlette Fisher    201\n",
      "1         S5  Carla Williamson     200\n",
      "2         S6        Dante Morse    198\n",
      "3         S7     Kaiser William    219\n",
      "4         S8    Madeeha Preston    201\n"
     ]
    }
   ],
   "source": [
    "concatenated = pd.concat([student_data1, student_data2])\n",
    "print(concatenated)"
   ]
  },
  {
   "cell_type": "markdown",
   "id": "941981a9cf126c87",
   "metadata": {},
   "source": [
    "3. Write a Pandas program to append rows to an existing DataFrame and display the combined data.\n",
    "Test Data:\n",
    "tudent_data1\n",
    "  student_id              name  marks\n",
    "0         S1  Danniella Fenton    200\n",
    "1         S2      Ryder Storey    210\n",
    "2         S3      Bryce Jensen    190\n",
    "3         S4         Ed Bernal    222\n",
    "4         S5       Kwame Morin    199\n",
    "New Row(s)\n",
    "student_id                  S6\n",
    "name          Scarlette Fisher\n",
    "marks                      205\n",
    "dtype: object"
   ]
  },
  {
   "cell_type": "code",
   "execution_count": 4,
   "id": "e53c3c9ca2f97ac9",
   "metadata": {
    "ExecuteTime": {
     "end_time": "2024-03-12T23:17:20.447645Z",
     "start_time": "2024-03-12T23:17:20.446018Z"
    }
   },
   "outputs": [
    {
     "name": "stdout",
     "output_type": "stream",
     "text": [
      "  student_id              name  marks\n",
      "0         S1  Danniella Fenton    200\n",
      "1         S2      Ryder Storey    210\n",
      "2         S3      Bryce Jensen    190\n",
      "3         S4         Ed Bernal    222\n",
      "4         S5       Kwame Morin    199\n",
      "5         S6  Scarlette Fisher    205\n"
     ]
    }
   ],
   "source": [
    "rows = {'student_id': ['S6'], 'name': ['Scarlette Fisher'], 'marks': [205]}\n",
    "new_rows = pd.DataFrame(rows)\n",
    "new_student_1 = pd.concat([student_data1, new_rows], ignore_index=True)\n",
    "print(new_student_1)"
   ]
  },
  {
   "cell_type": "markdown",
   "id": "6242c8516fc4f93e",
   "metadata": {},
   "source": [
    "4. Write a Pandas program to append a list of dictioneries or series to a existing DataFrame and display the combined data.\n",
    "Test Data:\n",
    " student_id              name  marks\n",
    "0         S1  Danniella Fenton    200\n",
    "1         S2      Ryder Storey    210\n",
    "2         S3      Bryce Jensen    190\n",
    "3         S4         Ed Bernal    222\n",
    "4         S5       Kwame Morin    199\n",
    "Dictionary:\n",
    "student_id                  S6\n",
    "name          Scarlette Fisher\n",
    "marks                      205\n",
    "dtype: object"
   ]
  },
  {
   "cell_type": "code",
   "execution_count": 5,
   "id": "5081d05b5655ab2a",
   "metadata": {
    "ExecuteTime": {
     "end_time": "2024-03-13T23:21:00.419858Z",
     "start_time": "2024-03-13T23:21:00.405464Z"
    }
   },
   "outputs": [
    {
     "name": "stdout",
     "output_type": "stream",
     "text": [
      "  student_id              name  marks\n",
      "0         S1  Danniella Fenton    200\n",
      "1         S2      Ryder Storey    210\n",
      "2         S3      Bryce Jensen    190\n",
      "3         S4         Ed Bernal    222\n",
      "4         S5       Kwame Morin    199\n",
      "5         S6  Scarlette Fisher    205\n"
     ]
    }
   ],
   "source": [
    "dictionary = {'student_id': ['S6'], 'name': ['Scarlette Fisher'], 'marks':[205]}\n",
    "new_student_1 = pd.concat([student_data1, pd.DataFrame(dictionary)], ignore_index=True)\n",
    "print(new_student_1)"
   ]
  },
  {
   "cell_type": "markdown",
   "id": "865a209fed2ca287",
   "metadata": {},
   "source": [
    "5. Write a Pandas program to join the two given dataframes along rows and merge with another dataframe along the common column id.\n",
    "Test Data:\n",
    "student_data1:\n",
    "  student_id              name  marks\n",
    "0         S1  Danniella Fenton    200\n",
    "1         S2      Ryder Storey    210\n",
    "2         S3      Bryce Jensen    190\n",
    "3         S4         Ed Bernal    222\n",
    "4         S5       Kwame Morin    199\n",
    "student_data2:\n",
    "  student_id              name  marks\n",
    "0         S4  Scarlette Fisher    201\n",
    "1         S5  Carla Williamson    200\n",
    "2         S6       Dante Morse    198\n",
    "3         S7    Kaiser William    219\n",
    "4         S8   Madeeha Preston    201\n",
    "exam_data:\n",
    "   student_id  exam_id\n",
    "0          S1       23\n",
    "1          S2       45\n",
    "2          S3       12\n",
    "3          S4       67\n",
    "4          S5       21\n",
    "5          S7       55\n",
    "6          S8       33\n",
    "7          S9       14\n",
    "8         S10       56\n",
    "9         S11       83\n",
    "10        S12       88\n",
    "11        S13       12"
   ]
  },
  {
   "cell_type": "code",
   "execution_count": 6,
   "id": "4dc44faa35766a3f",
   "metadata": {
    "ExecuteTime": {
     "end_time": "2024-03-13T23:22:58.497495Z",
     "start_time": "2024-03-13T23:22:58.485545Z"
    }
   },
   "outputs": [
    {
     "name": "stdout",
     "output_type": "stream",
     "text": [
      "  student_id               name  marks  exam_id\n",
      "0         S1   Danniella Fenton    200       23\n",
      "1         S2       Ryder Storey    210       45\n",
      "2         S3       Bryce Jensen    190       12\n",
      "3         S4          Ed Bernal    222       67\n",
      "4         S4   Scarlette Fisher    201       67\n",
      "5         S5        Kwame Morin    199       21\n",
      "6         S5  Carla Williamson     200       21\n",
      "7         S7     Kaiser William    219       55\n",
      "8         S8    Madeeha Preston    201       33\n"
     ]
    }
   ],
   "source": [
    "exam_data = pd.DataFrame({\n",
    "    'student_id': ['S1', 'S2', 'S3', 'S4', 'S5', 'S7', 'S8', 'S9', 'S10', 'S11', 'S12', 'S13'],\n",
    "    'exam_id': [23, 45, 12, 67, 21, 55, 33, 14, 56, 83, 88, 12]\n",
    "})\n",
    "\n",
    "merged_students = pd.concat([student_data1, student_data2], ignore_index=True)\n",
    "\n",
    "final_result = pd.merge(merged_students, exam_data, on='student_id')\n",
    "print(final_result)"
   ]
  },
  {
   "cell_type": "markdown",
   "id": "3e7ed0e1b5d32507",
   "metadata": {},
   "source": [
    "6. Write a Pandas program to join the two dataframes using the common column of both dataframes.\n",
    "Test Data:\n",
    "student_data1:\n",
    "  student_id              name  marks\n",
    "0         S1  Danniella Fenton    200\n",
    "1         S2      Ryder Storey    210\n",
    "2         S3      Bryce Jensen    190\n",
    "3         S4         Ed Bernal    222\n",
    "4         S5       Kwame Morin    199\n",
    "student_data2:\n",
    "  student_id              name  marks\n",
    "0         S4  Scarlette Fisher    201\n",
    "1         S5  Carla Williamson    200\n",
    "2         S6       Dante Morse    198\n",
    "3         S7    Kaiser William    219\n",
    "4         S8   Madeeha Preston    201"
   ]
  },
  {
   "cell_type": "code",
   "execution_count": 7,
   "id": "48c399a8a78b9769",
   "metadata": {
    "ExecuteTime": {
     "end_time": "2024-03-13T23:24:36.575894Z",
     "start_time": "2024-03-13T23:24:36.557710Z"
    }
   },
   "outputs": [
    {
     "name": "stdout",
     "output_type": "stream",
     "text": [
      "  student_id       name_x  marks_x             name_y  marks_y\n",
      "0         S4    Ed Bernal      222   Scarlette Fisher      201\n",
      "1         S5  Kwame Morin      199  Carla Williamson       200\n"
     ]
    }
   ],
   "source": [
    "join_common = pd.merge(student_data1, student_data2, on = 'student_id')\n",
    "print(join_common)"
   ]
  },
  {
   "cell_type": "markdown",
   "id": "4376b64b9ee399e",
   "metadata": {},
   "source": [
    "7. Write a Pandas program to join the two dataframes with matching records from both sides where available.\n",
    "Test Data:\n",
    "student_data1:\n",
    "  student_id              name  marks\n",
    "0         S1  Danniella Fenton    200\n",
    "1         S2      Ryder Storey    210\n",
    "2         S3      Bryce Jensen    190\n",
    "3         S4         Ed Bernal    222\n",
    "4         S5       Kwame Morin    199\n",
    "student_data2:\n",
    "  student_id              name  marks\n",
    "0         S4  Scarlette Fisher    201\n",
    "1         S5  Carla Williamson    200\n",
    "2         S6       Dante Morse    198\n",
    "3         S7    Kaiser William    219\n",
    "4         S8   Madeeha Preston    201"
   ]
  },
  {
   "cell_type": "code",
   "execution_count": 8,
   "id": "44d76fceebbe2f45",
   "metadata": {
    "ExecuteTime": {
     "end_time": "2024-03-13T23:25:58.672028Z",
     "start_time": "2024-03-13T23:25:58.667407Z"
    }
   },
   "outputs": [
    {
     "name": "stdout",
     "output_type": "stream",
     "text": [
      "  student_id            name_x  marks_x             name_y  marks_y\n",
      "0         S1  Danniella Fenton    200.0                NaN      NaN\n",
      "1         S2      Ryder Storey    210.0                NaN      NaN\n",
      "2         S3      Bryce Jensen    190.0                NaN      NaN\n",
      "3         S4         Ed Bernal    222.0   Scarlette Fisher    201.0\n",
      "4         S5       Kwame Morin    199.0  Carla Williamson     200.0\n",
      "5         S6               NaN      NaN        Dante Morse    198.0\n",
      "6         S7               NaN      NaN     Kaiser William    219.0\n",
      "7         S8               NaN      NaN    Madeeha Preston    201.0\n"
     ]
    }
   ],
   "source": [
    "merged_data = pd.merge(student_data1, student_data2, on='student_id', how='outer')\n",
    "print(merged_data)"
   ]
  },
  {
   "cell_type": "markdown",
   "id": "2e0d436dca1dec7c",
   "metadata": {},
   "source": [
    "8. Write a Pandas program to join (left join) the two dataframes using keys from left dataframe only.\n",
    "Test Data:\n",
    "data1:\n",
    "  key1 key2   P   Q\n",
    "0   K0   K0  P0  Q0\n",
    "1   K0   K1  P1  Q1\n",
    "2   K1   K0  P2  Q2\n",
    "3   K2   K1  P3  Q3\n",
    "data2:\n",
    "  key1 key2   R   S\n",
    "0   K0   K0  R0  S0\n",
    "1   K1   K0  R1  S1\n",
    "2   K1   K0  R2  S2\n",
    "3   K2   K0  R3  S3"
   ]
  },
  {
   "cell_type": "code",
   "execution_count": 9,
   "id": "7badc057d040c8ea",
   "metadata": {
    "ExecuteTime": {
     "end_time": "2024-03-13T23:27:10.469808Z",
     "start_time": "2024-03-13T23:27:10.463874Z"
    }
   },
   "outputs": [
    {
     "name": "stdout",
     "output_type": "stream",
     "text": [
      "  key1 key2   P   Q    R    S\n",
      "0   K0   K0  P0  Q0   R0   S0\n",
      "1   K0   K1  P1  Q1  NaN  NaN\n",
      "2   K1   K0  P2  Q2   R1   S1\n",
      "3   K1   K0  P2  Q2   R2   S2\n",
      "4   K2   K1  P3  Q3  NaN  NaN\n"
     ]
    }
   ],
   "source": [
    "data1 = pd.DataFrame({\n",
    "    'key1': ['K0', 'K0', 'K1', 'K2'],\n",
    "    'key2': ['K0', 'K1', 'K0', 'K1'],\n",
    "    'P': ['P0', 'P1', 'P2', 'P3'],\n",
    "    'Q': ['Q0', 'Q1', 'Q2', 'Q3']\n",
    "})\n",
    "\n",
    "data2 = pd.DataFrame({\n",
    "    'key1': ['K0', 'K1', 'K1', 'K2'],\n",
    "    'key2': ['K0', 'K0', 'K0', 'K0'],\n",
    "    'R': ['R0', 'R1', 'R2', 'R3'],\n",
    "    'S': ['S0', 'S1', 'S2', 'S3']\n",
    "})\n",
    "\n",
    "merged_data = pd.merge(data1, data2, on=['key1', 'key2'], how='left')\n",
    "print(merged_data)"
   ]
  },
  {
   "cell_type": "markdown",
   "id": "a77a106d50dec4dc",
   "metadata": {},
   "source": [
    "9. Write a Pandas program to join two dataframes using keys from right dataframe only.\n",
    "Test Data:\n",
    "data1:\n",
    "  key1 key2   P   Q\n",
    "0   K0   K0  P0  Q0\n",
    "1   K0   K1  P1  Q1\n",
    "2   K1   K0  P2  Q2\n",
    "3   K2   K1  P3  Q3\n",
    "data2:\n",
    "  key1 key2   R   S\n",
    "0   K0   K0  R0  S0\n",
    "1   K1   K0  R1  S1\n",
    "2   K1   K0  R2  S2\n",
    "3   K2   K0  R3  S3"
   ]
  },
  {
   "cell_type": "code",
   "execution_count": 10,
   "id": "406bd4e73dc76c90",
   "metadata": {
    "ExecuteTime": {
     "end_time": "2024-03-13T23:27:56.087844Z",
     "start_time": "2024-03-13T23:27:56.085956Z"
    }
   },
   "outputs": [
    {
     "name": "stdout",
     "output_type": "stream",
     "text": [
      "  key1 key2    P    Q   R   S\n",
      "0   K0   K0   P0   Q0  R0  S0\n",
      "1   K1   K0   P2   Q2  R1  S1\n",
      "2   K1   K0   P2   Q2  R2  S2\n",
      "3   K2   K0  NaN  NaN  R3  S3\n"
     ]
    }
   ],
   "source": [
    "merged_data = pd.merge(data1, data2, on=['key1', 'key2'], how='right')\n",
    "print(merged_data)"
   ]
  },
  {
   "cell_type": "markdown",
   "id": "905636e9b51d5f36",
   "metadata": {},
   "source": [
    "10. Write a Pandas program to merge two given datasets using multiple join keys.\n",
    "Test Data:\n",
    "data1:\n",
    "  key1 key2   P   Q\n",
    "0   K0   K0  P0  Q0\n",
    "1   K0   K1  P1  Q1\n",
    "2   K1   K0  P2  Q2\n",
    "3   K2   K1  P3  Q3\n",
    "data2:\n",
    "  key1 key2   R   S\n",
    "0   K0   K0  R0  S0\n",
    "1   K1   K0  R1  S1\n",
    "2   K1   K0  R2  S2\n",
    "3   K2   K0  R3  S3"
   ]
  },
  {
   "cell_type": "code",
   "execution_count": 11,
   "id": "5100291986220e2e",
   "metadata": {
    "ExecuteTime": {
     "end_time": "2024-03-13T23:28:50.399585Z",
     "start_time": "2024-03-13T23:28:50.395490Z"
    }
   },
   "outputs": [
    {
     "name": "stdout",
     "output_type": "stream",
     "text": [
      "  key1 key2   P   Q   R   S\n",
      "0   K0   K0  P0  Q0  R0  S0\n",
      "1   K1   K0  P2  Q2  R1  S1\n",
      "2   K1   K0  P2  Q2  R2  S2\n"
     ]
    }
   ],
   "source": [
    "merged_data = pd.merge(data1, data2, on=['key1', 'key2'])\n",
    "print(merged_data)"
   ]
  },
  {
   "cell_type": "markdown",
   "id": "f28b51c45c04b656",
   "metadata": {},
   "source": [
    "11. Write a Pandas program to create a new DataFrame based on existing series, using specified argument and override the existing columns names.\n"
   ]
  },
  {
   "cell_type": "code",
   "execution_count": 12,
   "id": "79d644aa11083550",
   "metadata": {
    "ExecuteTime": {
     "end_time": "2024-03-13T23:29:50.975685Z",
     "start_time": "2024-03-13T23:29:50.973429Z"
    }
   },
   "outputs": [
    {
     "name": "stdout",
     "output_type": "stream",
     "text": [
      "   X   Y\n",
      "0  1  10\n",
      "1  2  20\n",
      "2  3  30\n",
      "3  4  40\n",
      "4  5  50\n"
     ]
    }
   ],
   "source": [
    "series1 = pd.Series([1, 2, 3, 4, 5], name='A')\n",
    "series2 = pd.Series([10, 20, 30, 40, 50], name='B')\n",
    "\n",
    "new_columns = ['X', 'Y']\n",
    "\n",
    "new_df = pd.DataFrame({'X': series1, 'Y': series2})\n",
    "print(new_df)"
   ]
  },
  {
   "cell_type": "markdown",
   "id": "39d517e2389dfb4",
   "metadata": {},
   "source": [
    "12. Write a Pandas program to create a combination from two dataframes where a column id combination appears more than once in both dataframes.\n",
    "Test Data:\n",
    "data1:\n",
    "  key1 key2   P   Q\n",
    "0   K0   K0  P0  Q0\n",
    "1   K0   K1  P1  Q1\n",
    "2   K1   K0  P2  Q2\n",
    "3   K2   K1  P3  Q3\n",
    "data2:\n",
    "  key1 key2   R   S\n",
    "0   K0   K0  R0  S0\n",
    "1   K1   K0  R1  S1\n",
    "2   K1   K0  R2  S2\n",
    "3   K2   K0  R3  S3"
   ]
  },
  {
   "cell_type": "code",
   "execution_count": 13,
   "id": "46a8e4dc1e9a1362",
   "metadata": {
    "ExecuteTime": {
     "end_time": "2024-03-13T23:33:27.729272Z",
     "start_time": "2024-03-13T23:33:27.716347Z"
    }
   },
   "outputs": [
    {
     "name": "stdout",
     "output_type": "stream",
     "text": [
      "  key1 key2    P    Q    R    S\n",
      "0   K0   K0   P0   Q0   R0   S0\n",
      "1   K0   K1   P1   Q1  NaN  NaN\n",
      "2   K1   K0   P2   Q2   R1   S1\n",
      "3   K1   K0   P2   Q2   R2   S2\n",
      "4   K2   K1   P3   Q3  NaN  NaN\n",
      "5   K2   K0  NaN  NaN   R3   S3\n"
     ]
    }
   ],
   "source": [
    "merged_data = pd.merge(data1, data2, on=['key1', 'key2'], how = 'outer')\n",
    "print(merged_data)"
   ]
  },
  {
   "cell_type": "markdown",
   "id": "906ad1bea4c31893",
   "metadata": {},
   "source": [
    "13. Write a Pandas program to combine the columns of two potentially differently-indexed DataFrames into a single result DataFrame.\n",
    "Test Data:\n",
    "data1:\n",
    "     A   B\n",
    "K0  A0  B0\n",
    "K1  A1  B1\n",
    "K2  A2  B2\n",
    "data2:\n",
    "     C   D\n",
    "K0  C0  D0\n",
    "K2  C2  D2\n",
    "K3  C3  D3"
   ]
  },
  {
   "cell_type": "code",
   "execution_count": 14,
   "id": "b98d79c92e155821",
   "metadata": {
    "ExecuteTime": {
     "end_time": "2024-03-13T23:34:44.816717Z",
     "start_time": "2024-03-13T23:34:44.813273Z"
    }
   },
   "outputs": [
    {
     "name": "stdout",
     "output_type": "stream",
     "text": [
      "     A   B    C    D\n",
      "K0  A0  B0   C0   D0\n",
      "K1  A1  B1  NaN  NaN\n",
      "K2  A2  B2   C2   D2\n"
     ]
    }
   ],
   "source": [
    "data1 = pd.DataFrame({'A': ['A0', 'A1', 'A2'],\n",
    "                      'B': ['B0', 'B1', 'B2']},\n",
    "                     index=['K0', 'K1', 'K2'])\n",
    "\n",
    "data2 = pd.DataFrame({'C': ['C0', 'C2', 'C3'],\n",
    "                      'D': ['D0', 'D2', 'D3']},\n",
    "                     index=['K0', 'K2', 'K3'])\n",
    "\n",
    "result = data1.join(data2)\n",
    "print(result)"
   ]
  },
  {
   "cell_type": "markdown",
   "id": "19aebfc59dacbd28",
   "metadata": {},
   "source": [
    "14. Write a Pandas program to merge two given dataframes with different columns.\n",
    "Test Data:\n",
    "data1:\n",
    "  key1 key2   P   Q\n",
    "0   K0   K0  P0  Q0\n",
    "1   K0   K1  P1  Q1\n",
    "2   K1   K0  P2  Q2\n",
    "3   K2   K1  P3  Q3\n",
    "data2:\n",
    "  key1 key2   R   S\n",
    "0   K0   K0  R0  S0\n",
    "1   K1   K0  R1  S1\n",
    "2   K1   K0  R2  S2\n",
    "3   K2   K0  R3  S3"
   ]
  },
  {
   "cell_type": "code",
   "execution_count": 15,
   "id": "1d96d3671bfda8db",
   "metadata": {
    "ExecuteTime": {
     "end_time": "2024-03-13T23:35:24.654299Z",
     "start_time": "2024-03-13T23:35:24.652204Z"
    }
   },
   "outputs": [
    {
     "name": "stdout",
     "output_type": "stream",
     "text": [
      "  key1 key2   P   Q   R   S\n",
      "0   K0   K0  P0  Q0  R0  S0\n",
      "1   K1   K0  P2  Q2  R1  S1\n",
      "2   K1   K0  P2  Q2  R2  S2\n"
     ]
    }
   ],
   "source": [
    "data1 = pd.DataFrame({\n",
    "    'key1': ['K0', 'K0', 'K1', 'K2'],\n",
    "    'key2': ['K0', 'K1', 'K0', 'K1'],\n",
    "    'P': ['P0', 'P1', 'P2', 'P3'],\n",
    "    'Q': ['Q0', 'Q1', 'Q2', 'Q3']\n",
    "})\n",
    "\n",
    "data2 = pd.DataFrame({\n",
    "    'key1': ['K0', 'K1', 'K1', 'K2'],\n",
    "    'key2': ['K0', 'K0', 'K0', 'K0'],\n",
    "    'R': ['R0', 'R1', 'R2', 'R3'],\n",
    "    'S': ['S0', 'S1', 'S2', 'S3']\n",
    "})\n",
    "\n",
    "merged_data = pd.merge(data1, data2, on=['key1', 'key2'])\n",
    "print(merged_data)"
   ]
  },
  {
   "cell_type": "markdown",
   "id": "8def208ea4e1f5ac",
   "metadata": {},
   "source": [
    "15. Write a Pandas program to Combine two DataFrame objects by filling null values in one DataFrame with non-null values from other DataFrame.\n",
    "Test Data:\n",
    "Original DataFrames:\n",
    "     A  B\n",
    "0  NaN  3\n",
    "1  0.0  4\n",
    "2  NaN  5\n",
    "  A    B\n",
    "0  1  3.0\n",
    "1  1  NaN\n",
    "2  3  3.0"
   ]
  },
  {
   "cell_type": "code",
   "execution_count": 16,
   "id": "d998f47fe27508a3",
   "metadata": {
    "ExecuteTime": {
     "end_time": "2024-03-13T23:36:05.038311Z",
     "start_time": "2024-03-13T23:36:05.036075Z"
    }
   },
   "outputs": [
    {
     "name": "stdout",
     "output_type": "stream",
     "text": [
      "     A    B\n",
      "0  1.0  3.0\n",
      "1  0.0  4.0\n",
      "2  3.0  5.0\n"
     ]
    }
   ],
   "source": [
    "df1 = pd.DataFrame({'A': [np.nan, 0.0, np.nan],\n",
    "                    'B': [3, 4, 5]})\n",
    "\n",
    "df2 = pd.DataFrame({'A': [1, 1, 3],\n",
    "                    'B': [3.0, np.nan, 3.0]})\n",
    "\n",
    "result = df1.combine_first(df2)\n",
    "print(result)"
   ]
  },
  {
   "cell_type": "code",
   "execution_count": null,
   "id": "1547b595cb94e406",
   "metadata": {},
   "outputs": [],
   "source": []
  }
 ],
 "metadata": {
  "kernelspec": {
   "display_name": "Python 3 (ipykernel)",
   "language": "python",
   "name": "python3"
  },
  "language_info": {
   "codemirror_mode": {
    "name": "ipython",
    "version": 3
   },
   "file_extension": ".py",
   "mimetype": "text/x-python",
   "name": "python",
   "nbconvert_exporter": "python",
   "pygments_lexer": "ipython3",
   "version": "3.11.5"
  }
 },
 "nbformat": 4,
 "nbformat_minor": 5
}
